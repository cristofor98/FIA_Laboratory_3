{
 "cells": [
  {
   "cell_type": "code",
   "execution_count": 23,
   "id": "general-tribune",
   "metadata": {},
   "outputs": [],
   "source": [
    "import os\n",
    "import datetime\n",
    "import pandas as pd\n",
    "import numpy as np\n",
    "import matplotlib.pyplot as plt\n",
    "import seaborn as sns\n",
    "\n",
    "import joblib\n",
    "from sklearn.model_selection import train_test_split\n",
    "from sklearn import preprocessing"
   ]
  },
  {
   "cell_type": "code",
   "execution_count": 10,
   "id": "thirty-satellite",
   "metadata": {},
   "outputs": [],
   "source": [
    "import azureml.core\n",
    "from azureml.core import Workspace\n",
    "from azureml.core.model import Model\n",
    "from azureml.core import Experiment\n",
    "from azureml.core.webservice import Webservice\n",
    "from azureml.core.image import ContainerImage\n",
    "from azureml.core.webservice import AciWebservice\n",
    "from azureml.core.conda_dependencies import CondaDependencies"
   ]
  },
  {
   "cell_type": "code",
   "execution_count": 11,
   "id": "selected-cross",
   "metadata": {},
   "outputs": [
    {
     "name": "stdout",
     "output_type": "stream",
     "text": [
      "1.23.0\n"
     ]
    }
   ],
   "source": [
    "print(azureml.core.VERSION)"
   ]
  },
  {
   "cell_type": "code",
   "execution_count": 12,
   "id": "digital-competition",
   "metadata": {},
   "outputs": [
    {
     "ename": "NameError",
     "evalue": "name 'ws' is not defined",
     "output_type": "error",
     "traceback": [
      "\u001b[1;31m---------------------------------------------------------------------------\u001b[0m",
      "\u001b[1;31mNameError\u001b[0m                                 Traceback (most recent call last)",
      "\u001b[1;32m<ipython-input-12-5e61e9785d04>\u001b[0m in \u001b[0;36m<module>\u001b[1;34m\u001b[0m\n\u001b[1;32m----> 1\u001b[1;33m \u001b[0mws\u001b[0m\u001b[1;33m.\u001b[0m\u001b[0mwrite_config\u001b[0m\u001b[1;33m(\u001b[0m\u001b[1;33m)\u001b[0m\u001b[1;33m\u001b[0m\u001b[1;33m\u001b[0m\u001b[0m\n\u001b[0m",
      "\u001b[1;31mNameError\u001b[0m: name 'ws' is not defined"
     ]
    }
   ],
   "source": [
    "ws.write_config()"
   ]
  },
  {
   "cell_type": "code",
   "execution_count": 17,
   "id": "usual-theology",
   "metadata": {},
   "outputs": [
    {
     "name": "stderr",
     "output_type": "stream",
     "text": [
      "UserWarning: The resource group doesn't exist or was not provided. AzureML SDK is creating a resource group=linear_regression_prediction in location=eastus using subscription=313558ae-62b7-424d-a6b0-343c89a678b7.\n"
     ]
    },
    {
     "name": "stdout",
     "output_type": "stream",
     "text": [
      "Deploying KeyVault with name apartmenkeyvaulta21527e6.\n",
      "Deploying AppInsights with name apartmeninsights94def4b7.\n",
      "Deployed AppInsights with name apartmeninsights94def4b7. Took 4.23 seconds.\n",
      "Deploying StorageAccount with name apartmenstorage6fb2fc19a.\n",
      "Deployed KeyVault with name apartmenkeyvaulta21527e6. Took 19.99 seconds.\n",
      "Deployed StorageAccount with name apartmenstorage6fb2fc19a. Took 25.81 seconds.\n",
      "Deploying Workspace with name apartment.\n",
      "Deployed Workspace with name apartment. Took 24.32 seconds.\n"
     ]
    }
   ],
   "source": [
    "ws = Workspace.create(name='apartment',\n",
    "                     subscription_id='313558ae-62b7-424d-a6b0-343c89a678b7',\n",
    "                     resource_group='linear_regression_prediction', \n",
    "                     create_resource_group=True,\n",
    "                     location='eastus'\n",
    "                     )"
   ]
  },
  {
   "cell_type": "code",
   "execution_count": 18,
   "id": "innovative-michigan",
   "metadata": {},
   "outputs": [],
   "source": [
    "ws.write_config()"
   ]
  },
  {
   "cell_type": "code",
   "execution_count": 19,
   "id": "advanced-beijing",
   "metadata": {},
   "outputs": [
    {
     "data": {
      "text/plain": [
       "{'id': '/subscriptions/313558ae-62b7-424d-a6b0-343c89a678b7/resourceGroups/linear_regression_prediction/providers/Microsoft.MachineLearningServices/workspaces/apartment',\n",
       " 'name': 'apartment',\n",
       " 'identity': {'principal_id': '8581e750-2332-4fe6-ad4f-7d1daeab698f',\n",
       "  'tenant_id': '1b6d1f48-8893-4889-bdbf-1fb841bcae46',\n",
       "  'type': 'SystemAssigned'},\n",
       " 'location': 'eastus',\n",
       " 'type': 'Microsoft.MachineLearningServices/workspaces',\n",
       " 'sku': 'Basic',\n",
       " 'workspaceid': '78239986-ddcb-4f2e-8928-54fe8c41e60b',\n",
       " 'sdkTelemetryAppInsightsKey': 'f5784ccd-178d-4ecc-9998-b05841b44ae9',\n",
       " 'description': '',\n",
       " 'friendlyName': 'apartment',\n",
       " 'creationTime': '2021-02-27T17:47:17.3100475+00:00',\n",
       " 'containerRegistry': '',\n",
       " 'keyVault': '/subscriptions/313558ae-62b7-424d-a6b0-343c89a678b7/resourcegroups/linear_regression_prediction/providers/microsoft.keyvault/vaults/apartmenkeyvaulta21527e6',\n",
       " 'applicationInsights': '/subscriptions/313558ae-62b7-424d-a6b0-343c89a678b7/resourcegroups/linear_regression_prediction/providers/microsoft.insights/components/apartmeninsights94def4b7',\n",
       " 'storageAccount': '/subscriptions/313558ae-62b7-424d-a6b0-343c89a678b7/resourcegroups/linear_regression_prediction/providers/microsoft.storage/storageaccounts/apartmenstorage6fb2fc19a',\n",
       " 'hbiWorkspace': False,\n",
       " 'allowPublicAccessWhenBehindVnet': False,\n",
       " 'imageBuildCompute': '',\n",
       " 'discoveryUrl': 'https://eastus.experiments.azureml.net/discovery',\n",
       " 'notebookInfo': {'fqdn': 'ml-apartment-eastus-78239986-ddcb-4f2e-8928-54fe8c41e60b.notebooks.azure.net',\n",
       "  'resource_id': 'a4a9b49d5b5146e7a3c8f6981a9a515d'}}"
      ]
     },
     "execution_count": 19,
     "metadata": {},
     "output_type": "execute_result"
    }
   ],
   "source": [
    "ws = Workspace.from_config()\n",
    "ws.get_details()"
   ]
  },
  {
   "cell_type": "code",
   "execution_count": 20,
   "id": "recognized-austin",
   "metadata": {},
   "outputs": [],
   "source": [
    "exp = Experiment(workspace=ws, name='apartamentexp')"
   ]
  },
  {
   "cell_type": "code",
   "execution_count": 25,
   "id": "elect-investing",
   "metadata": {},
   "outputs": [],
   "source": [
    "run = exp.start_logging()\n",
    "run.log(\"Experiment start time\",str(datetime.datetime.now()))"
   ]
  },
  {
   "cell_type": "code",
   "execution_count": 27,
   "id": "unlimited-florida",
   "metadata": {},
   "outputs": [],
   "source": [
    "data_exp = pd.read_csv('apartmentComplexData.txt', sep=\",\", header=None)"
   ]
  },
  {
   "cell_type": "code",
   "execution_count": 28,
   "id": "compound-theta",
   "metadata": {},
   "outputs": [],
   "source": [
    "data_exp.columns = ['column1','column2','complexAge','totalRooms','totalBedrooms','complexInhabitants','apartmentsNr','column8','medianCompexValue']\n"
   ]
  },
  {
   "cell_type": "code",
   "execution_count": 29,
   "id": "bizarre-induction",
   "metadata": {},
   "outputs": [],
   "source": [
    "x = data_exp[['column1','column2','complexAge','totalRooms','totalBedrooms','complexInhabitants','apartmentsNr','column8']]\n"
   ]
  },
  {
   "cell_type": "code",
   "execution_count": 30,
   "id": "original-desire",
   "metadata": {},
   "outputs": [],
   "source": [
    "y = data_exp['medianCompexValue']\n"
   ]
  },
  {
   "cell_type": "code",
   "execution_count": 31,
   "id": "touched-india",
   "metadata": {},
   "outputs": [],
   "source": [
    "x_train,x_test,y_train,y_test = train_test_split(x,y,test_size=0.40,random_state=42)\n"
   ]
  },
  {
   "cell_type": "code",
   "execution_count": 32,
   "id": "iraqi-mississippi",
   "metadata": {},
   "outputs": [
    {
     "data": {
      "text/plain": [
       "LinearRegression()"
      ]
     },
     "execution_count": 32,
     "metadata": {},
     "output_type": "execute_result"
    }
   ],
   "source": [
    "from sklearn.linear_model import LinearRegression\n",
    "lm = LinearRegression()\n",
    "lm.fit(x_train,y_train)"
   ]
  },
  {
   "cell_type": "code",
   "execution_count": 33,
   "id": "fewer-medium",
   "metadata": {},
   "outputs": [
    {
     "data": {
      "text/plain": [
       "['outputs/apartament_exp_model.pkl']"
      ]
     },
     "execution_count": 33,
     "metadata": {},
     "output_type": "execute_result"
    }
   ],
   "source": [
    "filename = 'outputs/apartament_exp_model.pkl'\n",
    "joblib.dump(lm,filename)"
   ]
  },
  {
   "cell_type": "code",
   "execution_count": 41,
   "id": "federal-companion",
   "metadata": {},
   "outputs": [],
   "source": [
    "filename = 'outputs/apartament_exp_model.pkl'\n",
    "loaded_model = joblib.load(filename)\n",
    "y = loaded_model.predict([[-122,37,41,880,129,322,126,8]])"
   ]
  },
  {
   "cell_type": "code",
   "execution_count": 42,
   "id": "automatic-banking",
   "metadata": {},
   "outputs": [
    {
     "name": "stdout",
     "output_type": "stream",
     "text": [
      "[426102.65557006]\n"
     ]
    }
   ],
   "source": [
    "print(y)"
   ]
  },
  {
   "cell_type": "code",
   "execution_count": 43,
   "id": "substantial-private",
   "metadata": {},
   "outputs": [],
   "source": [
    "run.log('Intercept :', lm.intercept_)\n",
    "run.log('Slope:', lm.coef_[0])"
   ]
  },
  {
   "cell_type": "code",
   "execution_count": 44,
   "id": "intended-florida",
   "metadata": {},
   "outputs": [],
   "source": [
    "run.log(\"Experiment end time\", str(datetime.datetime.now()))\n",
    "run.complete()"
   ]
  },
  {
   "cell_type": "code",
   "execution_count": 45,
   "id": "green-involvement",
   "metadata": {},
   "outputs": [
    {
     "name": "stdout",
     "output_type": "stream",
     "text": [
      "https://ml.azure.com/experiments/apartamentexp/runs/e07fa37e-ce04-4582-ac96-b70bbf90fe8a?wsid=/subscriptions/313558ae-62b7-424d-a6b0-343c89a678b7/resourcegroups/linear_regression_prediction/workspaces/apartment\n"
     ]
    }
   ],
   "source": [
    "print(run.get_portal_url())"
   ]
  },
  {
   "cell_type": "code",
   "execution_count": 46,
   "id": "challenging-stanley",
   "metadata": {},
   "outputs": [
    {
     "name": "stdout",
     "output_type": "stream",
     "text": [
      "Registering model apartament_exp_model\n"
     ]
    }
   ],
   "source": [
    "model = Model.register(model_path=\"outputs/apartament_exp_model.pkl\",\n",
    "                      model_name = \"apartament_exp_model\",\n",
    "                      tags = {\"key\":\"1\"},\n",
    "                      description = \"Salary Prediction\",\n",
    "                      workspace = ws)"
   ]
  },
  {
   "cell_type": "code",
   "execution_count": 47,
   "id": "numerical-shelter",
   "metadata": {},
   "outputs": [],
   "source": [
    "acicconfig = AciWebservice.deploy_configuration(cpu_cores = 1,\n",
    "                                               memory_gb = 1,\n",
    "                                               tags = {\"data\":\"apartament\",\"method\":\"sklearn\"},\n",
    "                                               description = 'Predict apartament price')"
   ]
  },
  {
   "cell_type": "code",
   "execution_count": 52,
   "id": "weird-township",
   "metadata": {},
   "outputs": [
    {
     "name": "stdout",
     "output_type": "stream",
     "text": [
      "# Conda environment specification. The dependencies defined in this file will\n",
      "\n",
      "# be automatically provisioned for runs with userManagedDependencies=False.\n",
      "\n",
      "\n",
      "# Details about the Conda environment file format:\n",
      "\n",
      "# https://conda.io/docs/user-guide/tasks/manage-environments.html#create-env-file-manually\n",
      "\n",
      "\n",
      "name: project_environment\n",
      "dependencies:\n",
      "  # The python interpreter version.\n",
      "\n",
      "  # Currently Azure ML only supports 3.5.2 and later.\n",
      "\n",
      "- python=3.6.2\n",
      "\n",
      "- pip:\n",
      "    # Required packages for AzureML execution, history, and data preparation.\n",
      "\n",
      "  - azureml-defaults\n",
      "\n",
      "- scikit-learn\n",
      "channels:\n",
      "- anaconda\n",
      "- conda-forge\n",
      "\n"
     ]
    }
   ],
   "source": [
    "apartamentenv = CondaDependencies()\n",
    "apartamentenv.add_conda_package(\"scikit-learn\")\n",
    "\n",
    "with open(\"apartamentenv.yml\",\"w\") as f:\n",
    "    f.write(apartamentenv.serialize_to_string())\n",
    "with open(\"apartamentenv.yml\",\"r\") as f:\n",
    "    print(f.read())"
   ]
  },
  {
   "cell_type": "code",
   "execution_count": 51,
   "id": "affiliated-delight",
   "metadata": {},
   "outputs": [
    {
     "name": "stdout",
     "output_type": "stream",
     "text": [
      "Overwriting score.py\n"
     ]
    }
   ],
   "source": [
    "%%writefile score.py\n",
    "import os\n",
    "import pandas as pd\n",
    "import numpy as np\n",
    "import matplotlib.pyplot as plt\n",
    "import seaborn as sns\n",
    "\n",
    "import joblib\n",
    "import pickle\n",
    "import json\n",
    "from sklearn.model_selection import train_test_split\n",
    "from sklearn import preprocessing\n",
    "from sklearn.linear_model import LinearRegression\n",
    "from sklearn.linear_model import LogisticRegression\n",
    "from azureml.core.model import Model\n",
    "\n",
    "\n",
    "def init():\n",
    "    global model\n",
    "    model_path = Model.get_model_path('apartment_model')\n",
    "    model = joblib.load(model_path)\n",
    "\n",
    "def run(raw_data):\n",
    "\tdata = np.array(json.loads(raw_data)['data'])\n",
    "\ty_hat = model.predict(data)\n",
    "    return json.dumps(y_hat.tolist())\n",
    "\n",
    "\n"
   ]
  },
  {
   "cell_type": "code",
   "execution_count": 60,
   "id": "sexual-round",
   "metadata": {},
   "outputs": [
    {
     "name": "stderr",
     "output_type": "stream",
     "text": [
      "<ipython-input-60-529e0513b7d9>:1: DeprecationWarning: ContainerImage class has been deprecated and will be removed in a future release. Please migrate to using Environments. https://docs.microsoft.com/en-us/azure/machine-learning/how-to-use-environments\n",
      "  image_config = ContainerImage.image_configuration(execution_script=\"score.py\",\n"
     ]
    }
   ],
   "source": [
    "image_config = ContainerImage.image_configuration(execution_script=\"score.py\",\n",
    "                                                 runtime=\"python\",\n",
    "                                                 conda_file = \"apartamentenv.yml\")"
   ]
  },
  {
   "cell_type": "code",
   "execution_count": null,
   "id": "anticipated-carroll",
   "metadata": {},
   "outputs": [
    {
     "name": "stderr",
     "output_type": "stream",
     "text": [
      "<ipython-input-66-9400d7182b1d>:1: DeprecationWarning: deploy_from_model has been deprecated and will be removed in a future release. Please migrate to using Environments. https://docs.microsoft.com/en-us/azure/machine-learning/how-to-use-environments\n",
      "  services = Webservice.deploy_from_model(workspace=ws,\n"
     ]
    },
    {
     "name": "stdout",
     "output_type": "stream",
     "text": [
      "Creating image\n",
      "Running..................."
     ]
    }
   ],
   "source": [
    "services = Webservice.deploy_from_model(workspace=ws,\n",
    "                                        name='apartament-svc',\n",
    "                                        models = [model],\n",
    "                                        image_config = image_config)"
   ]
  },
  {
   "cell_type": "code",
   "execution_count": 63,
   "id": "british-department",
   "metadata": {},
   "outputs": [
    {
     "ename": "AttributeError",
     "evalue": "'CondaDependencies' object has no attribute 'python'",
     "output_type": "error",
     "traceback": [
      "\u001b[1;31m---------------------------------------------------------------------------\u001b[0m",
      "\u001b[1;31mAttributeError\u001b[0m                            Traceback (most recent call last)",
      "\u001b[1;32m<ipython-input-63-e6e611ba4f51>\u001b[0m in \u001b[0;36m<module>\u001b[1;34m\u001b[0m\n\u001b[0;32m      8\u001b[0m     \u001b[0menv\u001b[0m\u001b[1;33m.\u001b[0m\u001b[0mpython\u001b[0m\u001b[1;33m.\u001b[0m\u001b[0mconda_dependencies\u001b[0m\u001b[1;33m.\u001b[0m\u001b[0madd_pip_package\u001b[0m\u001b[1;33m(\u001b[0m\u001b[0mpip_package\u001b[0m\u001b[1;33m)\u001b[0m\u001b[1;33m\u001b[0m\u001b[1;33m\u001b[0m\u001b[0m\n\u001b[0;32m      9\u001b[0m \u001b[1;33m\u001b[0m\u001b[0m\n\u001b[1;32m---> 10\u001b[1;33m inference_config = InferenceConfig(entry_script='D:\\liniar regresion\\lab\\score.py',\n\u001b[0m\u001b[0;32m     11\u001b[0m                                     environment=apartamentenv)\n",
      "\u001b[1;32m~\\AppData\\Roaming\\Python\\Python38\\site-packages\\azureml\\core\\model.py\u001b[0m in \u001b[0;36m__init__\u001b[1;34m(self, entry_script, runtime, conda_file, extra_docker_file_steps, source_directory, enable_gpu, description, base_image, base_image_registry, cuda_version, environment)\u001b[0m\n\u001b[0;32m   2063\u001b[0m         \u001b[0mself\u001b[0m\u001b[1;33m.\u001b[0m\u001b[0menvironment\u001b[0m \u001b[1;33m=\u001b[0m \u001b[0menvironment\u001b[0m\u001b[1;33m\u001b[0m\u001b[1;33m\u001b[0m\u001b[0m\n\u001b[0;32m   2064\u001b[0m \u001b[1;33m\u001b[0m\u001b[0m\n\u001b[1;32m-> 2065\u001b[1;33m         \u001b[0mself\u001b[0m\u001b[1;33m.\u001b[0m\u001b[0mvalidate_configuration\u001b[0m\u001b[1;33m(\u001b[0m\u001b[1;33m)\u001b[0m\u001b[1;33m\u001b[0m\u001b[1;33m\u001b[0m\u001b[0m\n\u001b[0m\u001b[0;32m   2066\u001b[0m \u001b[1;33m\u001b[0m\u001b[0m\n\u001b[0;32m   2067\u001b[0m     \u001b[1;32mdef\u001b[0m \u001b[0m__repr__\u001b[0m\u001b[1;33m(\u001b[0m\u001b[0mself\u001b[0m\u001b[1;33m)\u001b[0m\u001b[1;33m:\u001b[0m\u001b[1;33m\u001b[0m\u001b[1;33m\u001b[0m\u001b[0m\n",
      "\u001b[1;32m~\\AppData\\Roaming\\Python\\Python38\\site-packages\\azureml\\core\\model.py\u001b[0m in \u001b[0;36mvalidate_configuration\u001b[1;34m(self)\u001b[0m\n\u001b[0;32m   2151\u001b[0m                                           'enable_gpu, cuda_version, or base_image along with an environment object.')\n\u001b[0;32m   2152\u001b[0m \u001b[1;33m\u001b[0m\u001b[0m\n\u001b[1;32m-> 2153\u001b[1;33m             \u001b[1;32mif\u001b[0m \u001b[0mself\u001b[0m\u001b[1;33m.\u001b[0m\u001b[0menvironment\u001b[0m\u001b[1;33m.\u001b[0m\u001b[0mpython\u001b[0m\u001b[1;33m.\u001b[0m\u001b[0mconda_dependencies\u001b[0m \u001b[1;32mand\u001b[0m\u001b[0;31m \u001b[0m\u001b[0;31m\\\u001b[0m\u001b[1;33m\u001b[0m\u001b[1;33m\u001b[0m\u001b[0m\n\u001b[0m\u001b[0;32m   2154\u001b[0m                     \u001b[1;34m'azureml-defaults'\u001b[0m \u001b[1;32mnot\u001b[0m \u001b[1;32min\u001b[0m \u001b[0mself\u001b[0m\u001b[1;33m.\u001b[0m\u001b[0menvironment\u001b[0m\u001b[1;33m.\u001b[0m\u001b[0mpython\u001b[0m\u001b[1;33m.\u001b[0m\u001b[0mconda_dependencies\u001b[0m\u001b[1;33m.\u001b[0m\u001b[0mserialize_to_string\u001b[0m\u001b[1;33m(\u001b[0m\u001b[1;33m)\u001b[0m\u001b[1;33m:\u001b[0m\u001b[1;33m\u001b[0m\u001b[1;33m\u001b[0m\u001b[0m\n\u001b[0;32m   2155\u001b[0m                 module_logger.warning('Warning, azureml-defaults not detected in provided environment pip '\n",
      "\u001b[1;31mAttributeError\u001b[0m: 'CondaDependencies' object has no attribute 'python'"
     ]
    }
   ],
   "source": [
    "from azureml.core.environment import Environment\n",
    "from azureml.core.model import InferenceConfig\n",
    "\n",
    "\n",
    "env = Environment.get(ws, \"AzureML-Minimal\").clone(apartamentenv)\n",
    "\n",
    "for pip_package in [\"scikit-learn\"]:\n",
    "    env.python.conda_dependencies.add_pip_package(pip_package)\n",
    "\n",
    "inference_config = InferenceConfig(entry_script='D:\\liniar regresion\\lab\\score.py',\n",
    "                                    environment=apartamentenv)"
   ]
  },
  {
   "cell_type": "code",
   "execution_count": null,
   "id": "neutral-crash",
   "metadata": {},
   "outputs": [],
   "source": []
  }
 ],
 "metadata": {
  "kernelspec": {
   "display_name": "Python 3",
   "language": "python",
   "name": "python3"
  },
  "language_info": {
   "codemirror_mode": {
    "name": "ipython",
    "version": 3
   },
   "file_extension": ".py",
   "mimetype": "text/x-python",
   "name": "python",
   "nbconvert_exporter": "python",
   "pygments_lexer": "ipython3",
   "version": "3.8.6rc1"
  }
 },
 "nbformat": 4,
 "nbformat_minor": 5
}
